{
 "cells": [
  {
   "cell_type": "markdown",
   "id": "1fce6f20",
   "metadata": {},
   "source": [
    "# Implementing PCA by numpy"
   ]
  },
  {
   "cell_type": "code",
   "execution_count": 1,
   "id": "0a4d4164",
   "metadata": {},
   "outputs": [],
   "source": [
    "import numpy as np"
   ]
  },
  {
   "cell_type": "code",
   "execution_count": 15,
   "id": "5b3a2d8d",
   "metadata": {},
   "outputs": [],
   "source": [
    "x=np.random.randint(10,50,100).reshape(20,5)"
   ]
  },
  {
   "cell_type": "code",
   "execution_count": 16,
   "id": "09861cdc",
   "metadata": {},
   "outputs": [
    {
     "name": "stdout",
     "output_type": "stream",
     "text": [
      "[[35 29 18 14 33]\n",
      " [23 30 10 19 42]\n",
      " [15 39 12 15 44]\n",
      " [22 20 22 34 31]\n",
      " [11 15 28 39 34]\n",
      " [15 42 37 23 34]\n",
      " [17 29 48 47 33]\n",
      " [34 12 37 46 46]\n",
      " [36 14 47 49 45]\n",
      " [20 37 44 40 15]\n",
      " [20 17 34 15 46]\n",
      " [31 28 37 36 28]\n",
      " [21 43 16 25 35]\n",
      " [10 11 26 24 30]\n",
      " [11 29 35 16 37]\n",
      " [33 11 18 38 49]\n",
      " [41 27 31 13 29]\n",
      " [31 31 18 21 18]\n",
      " [37 39 21 48 21]\n",
      " [46 16 45 18 27]]\n"
     ]
    }
   ],
   "source": [
    "print(x)"
   ]
  },
  {
   "cell_type": "code",
   "execution_count": 18,
   "id": "e35b854f",
   "metadata": {},
   "outputs": [
    {
     "name": "stdout",
     "output_type": "stream",
     "text": [
      "(20, 5)\n"
     ]
    }
   ],
   "source": [
    "x_meaned=x-np.mean(x,axis=0)\n",
    "print(x_meaned.shape)"
   ]
  },
  {
   "cell_type": "markdown",
   "id": "460cf011",
   "metadata": {},
   "source": [
    "cov means covarience matrix. false=column means no.of.col in cov is equal to no,ofcol in origonal data \n"
   ]
  },
  {
   "cell_type": "code",
   "execution_count": 21,
   "id": "9a566efe",
   "metadata": {},
   "outputs": [
    {
     "name": "stdout",
     "output_type": "stream",
     "text": [
      "(5, 5)\n"
     ]
    }
   ],
   "source": [
    "cov_mat=np.cov(x_meaned,rowvar=False)\n",
    "print(cov_mat.shape)"
   ]
  },
  {
   "cell_type": "code",
   "execution_count": 34,
   "id": "0cff5e71",
   "metadata": {},
   "outputs": [
    {
     "name": "stdout",
     "output_type": "stream",
     "text": [
      "[ 46.30969492  96.33681757 118.17662881 139.14604137 234.32818575]\n",
      "[[-2.41772158e-01 -2.35539152e-01  9.17397256e-01 -5.59593277e-02\n",
      "  -2.03269180e-01]\n",
      " [-6.09977328e-01 -1.17641738e-01 -6.94929871e-02  6.94059706e-01\n",
      "   3.57127331e-01]\n",
      " [-2.60009737e-01  7.33289742e-01  2.48910152e-04  2.01912942e-01\n",
      "  -5.94905197e-01]\n",
      " [-1.65677460e-02 -6.22616370e-01 -3.04789742e-01  2.04844365e-01\n",
      "  -6.90808486e-01]\n",
      " [-7.08233245e-01 -7.29159803e-02 -2.46284693e-01 -6.57586214e-01\n",
      "  -3.62657807e-03]]\n"
     ]
    }
   ],
   "source": [
    "eigenvalue , eigenvector=np.linalg.eigh(cov_mat)\n",
    "print(eigenvalue)\n",
    "print(eigenvector)"
   ]
  },
  {
   "cell_type": "code",
   "execution_count": 40,
   "id": "0df310c2",
   "metadata": {},
   "outputs": [],
   "source": [
    "sorted_index=np.argsort(eigenvalue)[::-1]\n",
    "sorted_eigen_value=eigenvalue[sorted_index]\n",
    "sorted_eigen_vector=eigenvector[:,sorted_index]"
   ]
  },
  {
   "cell_type": "code",
   "execution_count": 41,
   "id": "717999ed",
   "metadata": {},
   "outputs": [
    {
     "data": {
      "text/plain": [
       "array([234.32818575, 139.14604137, 118.17662881,  96.33681757,\n",
       "        46.30969492])"
      ]
     },
     "execution_count": 41,
     "metadata": {},
     "output_type": "execute_result"
    }
   ],
   "source": [
    "sorted_eigen_value"
   ]
  },
  {
   "cell_type": "code",
   "execution_count": 42,
   "id": "ac948273",
   "metadata": {},
   "outputs": [
    {
     "data": {
      "text/plain": [
       "array([[-2.03269180e-01, -5.59593277e-02,  9.17397256e-01,\n",
       "        -2.35539152e-01, -2.41772158e-01],\n",
       "       [ 3.57127331e-01,  6.94059706e-01, -6.94929871e-02,\n",
       "        -1.17641738e-01, -6.09977328e-01],\n",
       "       [-5.94905197e-01,  2.01912942e-01,  2.48910152e-04,\n",
       "         7.33289742e-01, -2.60009737e-01],\n",
       "       [-6.90808486e-01,  2.04844365e-01, -3.04789742e-01,\n",
       "        -6.22616370e-01, -1.65677460e-02],\n",
       "       [-3.62657807e-03, -6.57586214e-01, -2.46284693e-01,\n",
       "        -7.29159803e-02, -7.08233245e-01]])"
      ]
     },
     "execution_count": 42,
     "metadata": {},
     "output_type": "execute_result"
    }
   ],
   "source": [
    "sorted_eigen_vector"
   ]
  },
  {
   "cell_type": "code",
   "execution_count": 43,
   "id": "702846a3",
   "metadata": {},
   "outputs": [],
   "source": [
    "n_components=2 "
   ]
  },
  {
   "cell_type": "code",
   "execution_count": 46,
   "id": "49cdc149",
   "metadata": {},
   "outputs": [],
   "source": [
    "eigenvector_subset=sorted_eigen_vector[:,0:n_components]"
   ]
  },
  {
   "cell_type": "code",
   "execution_count": 48,
   "id": "91a36c7e",
   "metadata": {},
   "outputs": [],
   "source": [
    "x_reduced=np.dot(eigenvector_subset.transpose(),x_meaned.transpose()).transpose()"
   ]
  },
  {
   "cell_type": "code",
   "execution_count": 49,
   "id": "7d53a15a",
   "metadata": {},
   "outputs": [
    {
     "data": {
      "text/plain": [
       "(20, 2)"
      ]
     },
     "execution_count": 49,
     "metadata": {},
     "output_type": "execute_result"
    }
   ],
   "source": [
    "x_reduced.shape"
   ]
  },
  {
   "cell_type": "markdown",
   "id": "255235da",
   "metadata": {},
   "source": [
    "we reduced (20,5) matrix in 20 X 2  by PCA"
   ]
  }
 ],
 "metadata": {
  "kernelspec": {
   "display_name": "Python 3 (ipykernel)",
   "language": "python",
   "name": "python3"
  },
  "language_info": {
   "codemirror_mode": {
    "name": "ipython",
    "version": 3
   },
   "file_extension": ".py",
   "mimetype": "text/x-python",
   "name": "python",
   "nbconvert_exporter": "python",
   "pygments_lexer": "ipython3",
   "version": "3.11.4"
  }
 },
 "nbformat": 4,
 "nbformat_minor": 5
}
